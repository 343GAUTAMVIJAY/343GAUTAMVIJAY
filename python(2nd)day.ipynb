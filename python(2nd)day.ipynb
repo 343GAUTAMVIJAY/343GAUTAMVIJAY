{
  "nbformat": 4,
  "nbformat_minor": 0,
  "metadata": {
    "colab": {
      "provenance": [],
      "authorship_tag": "ABX9TyMK9HpezMY2aWxWpT1ngJZW",
      "include_colab_link": true
    },
    "kernelspec": {
      "name": "python3",
      "display_name": "Python 3"
    },
    "language_info": {
      "name": "python"
    }
  },
  "cells": [
    {
      "cell_type": "markdown",
      "metadata": {
        "id": "view-in-github",
        "colab_type": "text"
      },
      "source": [
        "<a href=\"https://colab.research.google.com/github/343GAUTAMVIJAY/343GAUTAMVIJAY/blob/main/python(2nd)day.ipynb\" target=\"_parent\"><img src=\"https://colab.research.google.com/assets/colab-badge.svg\" alt=\"Open In Colab\"/></a>"
      ]
    },
    {
      "cell_type": "code",
      "execution_count": null,
      "metadata": {
        "id": "9dXimWWWa9g7"
      },
      "outputs": [],
      "source": []
    },
    {
      "cell_type": "markdown",
      "source": [
        "Python – List, Tuple, Set, Dictionary\n",
        "1.  Create a list of first 10 natural numbers. And write a program to find the lists of odd numbers and even numbers separately. And, to find the square of its odd and even lists.\n",
        "2.  Write a program to find the largest and smallest number in the list without using the in-built function.\n",
        "3.  Write a program to find the second largest and second smallest number in the list without using the in-built function.\n",
        "4. Write a program to sort elements stored in the list as Ascending order and Descending order without using the in-built function (sort ()).                \n",
        "Eg: [5,3,7,9,8,4,2]\n",
        "Output: [2,3,4,5,7,8,9] – Ascending Order,\n",
        "      [9,8,7,5,4,3,2] – Descending Order\n",
        "5. Find the index position of the specific number stored in the list.\n",
        "Eg: a= [45,67,83,24,55,87,77,34]\n",
        "What is the position of 55?\n",
        "Output: 4\n",
        "6. Find most frequent element present in a list.\n",
        "Eg: a= [4,5,6,4,6,7,4,2,4,8,4]\n",
        "Output: 4\n",
        "7. Below are the two lists. Write a Python program to convert them into a dictionary in a way that item from list1 is the key and item from list2 is the value by using update method ().\n",
        "keys = ['Ten', 'Twenty', 'Thirty']\n",
        "values = [10, 20, 30]\n",
        "Output:\n",
        "{'Ten': 10, 'Twenty': 20, 'Thirty': 30}\n",
        "8. Create a list of 10 members as a Voter_list. Assume that there are 3 Candidates (A, B & C) are going to contest in the election process. Write a program that voters will cast their votes and predict the Winner and Runner of the election process and to find the members who voted for the Winner and Runner.\n",
        "9. Write a program to calculate the following functions:\n",
        "    1. India (Rupee) to US (Dollar) conversion\n",
        "    2. Celsius to Fahrenheit\n",
        "    3. BMI Calculation\n",
        "    4. Simple Interest Calculation\n",
        "10. Write a program to get 0s and 1s in the list:\n",
        "    Eg: Input list= [0,1,0,1,1,0,1,0,1,0]   \n",
        "    Output:\n",
        "        [0,0,0,0,0,1,1,1,1,1]"
      ],
      "metadata": {
        "id": "dJV1nQegbAiw"
      }
    },
    {
      "cell_type": "code",
      "source": [
        "# find the lists of odd numbers and even numbers separately. And, to find the square of its odd and even lists.\n",
        "\n",
        "n=[int(x) for x in input().split()]\n",
        "even=[]\n",
        "odd=[]\n",
        "for i in n:\n",
        "    if(i%2==0):\n",
        "        even.append(i)\n",
        "    else:\n",
        "        odd.append(i)\n",
        "print(even)\n",
        "print(odd)\n",
        "evensquare=[x**2 for x in even]\n",
        "oddsquare=[x**2 for x in odd]\n",
        "print(evensquare)\n",
        "print(oddsquare)\n"
      ],
      "metadata": {
        "colab": {
          "base_uri": "https://localhost:8080/"
        },
        "id": "enTNVJgykJXg",
        "outputId": "788d8649-71dd-4613-a606-598d48c0101e"
      },
      "execution_count": null,
      "outputs": [
        {
          "output_type": "stream",
          "name": "stdout",
          "text": [
            "1 2 3 4 5 6 7 8 9 10\n",
            "[2, 4, 6, 8, 10]\n",
            "[1, 3, 5, 7, 9]\n",
            "[4, 16, 36, 64, 100]\n",
            "[1, 9, 25, 49, 81]\n"
          ]
        }
      ]
    },
    {
      "cell_type": "code",
      "source": [
        "#find the largest and smallest number in the list without using the in-built function.\n",
        "\n",
        "n=[int(x) for x in input().split()]\n",
        "print(n)\n",
        "for i in range(len(n)):\n",
        "  for j in range(i+1,len(n)):\n",
        "    if(n[i]>n[j]):\n",
        "      n[i],n[j]=n[j],n[i]\n",
        "print(\"Smallest number: \",n[0])\n",
        "print(\"Largest number: \",n[len(n)-1])\n"
      ],
      "metadata": {
        "colab": {
          "base_uri": "https://localhost:8080/"
        },
        "id": "YfaVHUCtkvI9",
        "outputId": "373208ea-3fa0-4d1c-91a4-024e776772bf"
      },
      "execution_count": null,
      "outputs": [
        {
          "output_type": "stream",
          "name": "stdout",
          "text": [
            "2 6 4 8 1 9\n",
            "[2, 6, 4, 8, 1, 9]\n",
            "Smallest number:  1\n",
            "Largest number:  9\n"
          ]
        }
      ]
    },
    {
      "cell_type": "code",
      "source": [
        "#find the second largest and second smallest number\n",
        "\n",
        "n=[int(x) for x in input().split()]\n",
        "print(n)\n",
        "for i in range(len(n)):\n",
        "  for j in range(i+1,len(n)):\n",
        "    if(n[i]>n[j]):\n",
        "      n[i],n[j]=n[j],n[i]\n",
        "print(\"2nd Smallest number: \",n[1])\n",
        "print(\"2nd Largest number: \",n[len(n)-2])"
      ],
      "metadata": {
        "colab": {
          "base_uri": "https://localhost:8080/"
        },
        "id": "2gsLCIMgmjTi",
        "outputId": "82da317c-b33f-44d6-8884-06f84b11bbdb"
      },
      "execution_count": null,
      "outputs": [
        {
          "output_type": "stream",
          "name": "stdout",
          "text": [
            "2 6 76 5 2 91\n",
            "[2, 6, 76, 5, 2, 91]\n",
            "2nd Smallest number:  2\n",
            "2nd Largest number:  76\n"
          ]
        }
      ]
    },
    {
      "cell_type": "code",
      "source": [
        "#sort elements stored in the list as Ascending order and Descending order\n",
        "\n",
        "n=[int(x) for x in input().split()]\n",
        "print(n)\n",
        "for i in range(len(n)):\n",
        "  for j in range(i+1,len(n)):\n",
        "    if(n[i]>n[j]):\n",
        "      n[i],n[j]=n[j],n[i]\n",
        "print(\"Ascending order: \",n)\n",
        "print(\"Descending order: \",n[::-1])"
      ],
      "metadata": {
        "colab": {
          "base_uri": "https://localhost:8080/"
        },
        "id": "JDgGAQ1WnT2X",
        "outputId": "baafbfd3-1285-4f95-b80e-b3d4b66dd75f"
      },
      "execution_count": null,
      "outputs": [
        {
          "output_type": "stream",
          "name": "stdout",
          "text": [
            "2 6 48 1 45 9\n",
            "[2, 6, 48, 1, 45, 9]\n",
            "Ascending order:  [1, 2, 6, 9, 45, 48]\n",
            "Descending order:  [48, 45, 9, 6, 2, 1]\n"
          ]
        }
      ]
    },
    {
      "cell_type": "code",
      "source": [
        "#index position of the specific number stored in the list\n",
        "\n",
        "n=[int(x) for x in input().split()]\n",
        "p=int(input(\"Enter num is list:\"))\n",
        "for i in n:\n",
        "  if(p==i):\n",
        "    print(f\"index of {p} in \",n.index(i))\n",
        "\n"
      ],
      "metadata": {
        "colab": {
          "base_uri": "https://localhost:8080/"
        },
        "id": "gZOIcjWEnwnq",
        "outputId": "a08b7bc2-bc62-4ce1-e932-2949c3b17650"
      },
      "execution_count": null,
      "outputs": [
        {
          "output_type": "stream",
          "name": "stdout",
          "text": [
            "45 67 83 24 55 87 77 34\n",
            "Enter num is list:55\n",
            "index of 55 in  4\n"
          ]
        }
      ]
    },
    {
      "cell_type": "code",
      "source": [
        "# most frequent element present in a list.\n",
        "\n",
        "n=[int(x) for x in input().split()]\n",
        "k=0\n",
        "for i in n:\n",
        "  c=n.count(i)\n",
        "  if(c>k):\n",
        "    k=c\n",
        "    p=i\n",
        "print(\"Most frequent element is: \",p)\n"
      ],
      "metadata": {
        "colab": {
          "base_uri": "https://localhost:8080/"
        },
        "id": "trsvZv-QrMuM",
        "outputId": "9275ebdb-0bae-46e6-ce36-299b6e6d160f"
      },
      "execution_count": null,
      "outputs": [
        {
          "output_type": "stream",
          "name": "stdout",
          "text": [
            "6 7 2 6 8 8 8\n",
            "Most frequent element is:  8\n"
          ]
        }
      ]
    },
    {
      "cell_type": "code",
      "source": [
        "#Python program to convert list into a dictionary\n",
        "\n",
        "keys = [(x) for x in input(\"Enter keys: \").split()]\n",
        "values = [int(x) for x in input(\"Enter values: \").split()]\n",
        "\n",
        "dictionary = {}\n",
        "dictionary.update(zip(keys, values))\n",
        "\n",
        "print(dictionary)"
      ],
      "metadata": {
        "colab": {
          "base_uri": "https://localhost:8080/"
        },
        "id": "hEpaFfFvrqsr",
        "outputId": "d25d23a6-5a1b-4820-a7c1-ec23069e92a8"
      },
      "execution_count": null,
      "outputs": [
        {
          "output_type": "stream",
          "name": "stdout",
          "text": [
            "Enter keys: ten twenty thirty\n",
            "Enter values: 10 20 30\n",
            "{'ten': 10, 'twenty': 20, 'thirty': 30}\n"
          ]
        }
      ]
    },
    {
      "cell_type": "code",
      "source": [
        "#find the members who voted for the Winner and Runner.\n",
        "\n",
        "print(\"candidates: virat kholi dhoni\")\n",
        "print(\"1 for virat as well as enter 2 and 3 for kholi and dhoni then 4 for nota\")\n",
        "voters=[\"luffy\",\"zoro\",\"nami\",\"sanji\",\"usopp\",\"chopper\",\"robin\",\"franky\",\"brook\",\"zimbei\"]\n",
        "\n",
        "v=0\n",
        "k=0\n",
        "d=0\n",
        "n=0\n",
        "vv=[]\n",
        "kk=[]\n",
        "dd=[]\n",
        "nn=[]\n",
        "\n",
        "for i in voters:\n",
        "    vote=int(input(f\"voters-{i}: \"))\n",
        "    if vote==1:\n",
        "        v+=1\n",
        "        vv.append(i)\n",
        "    elif vote==2:\n",
        "        k+=1\n",
        "        kk.append(i)\n",
        "    elif vote==3:\n",
        "        d+=1\n",
        "        dd.append(i)\n",
        "    else:\n",
        "        n+=1\n",
        "        nn.append(i)\n",
        "\n",
        "print(f\"virat count:{vv}={v}\",f\"kholi count:{kk}={k}\",f\"dhoni count:{dd}={d}\",f\"nota count:{nn}={n}\",sep=\"\\n\")\n",
        "\n",
        "if(v > k or d or n):\n",
        "    print(\"Winner virat, loser: kholi,dhoni\")\n",
        "elif(k > v or d or n):\n",
        "    print(\"winner kholi, loser: virat,dhoni\")\n",
        "elif(d > n or k or v):\n",
        "    print(\"winner dhoni, loser: virat,kholi\")\n",
        "elif(n > v or k or d):\n",
        "    print(\"nota\")\n"
      ],
      "metadata": {
        "colab": {
          "base_uri": "https://localhost:8080/"
        },
        "id": "HStmvCKlsxph",
        "outputId": "44e108fe-88df-459b-eadc-7483b1be746e"
      },
      "execution_count": null,
      "outputs": [
        {
          "output_type": "stream",
          "name": "stdout",
          "text": [
            "candidates: virat kholi dhoni\n",
            "1 for virat as well as enter 2 and 3 for kholi and dhoni then 4 for nota\n",
            "voters-luffy: 1\n",
            "voters-zoro: 1\n",
            "voters-nami: 1\n",
            "voters-sanji: 1\n",
            "voters-usopp: 2\n",
            "voters-chopper: 2\n",
            "voters-robin: 2\n",
            "voters-franky: 3\n",
            "voters-brook: 3\n",
            "voters-zimbei: 4\n",
            "virat count:['luffy', 'zoro', 'nami', 'sanji']=4\n",
            "kholi count:['usopp', 'chopper', 'robin']=3\n",
            "dhoni count:['franky', 'brook']=2\n",
            "nota count:['zimbei']=1\n",
            "Winner virat, loser: kholi,dhoni\n"
          ]
        }
      ]
    },
    {
      "cell_type": "code",
      "source": [
        "# Write a program to calculate the following functions:\n",
        "# India (Rupee) to US (Dollar) conversion\n",
        "# Celsius to Fahrenheit\n",
        "# BMI Calculation\n",
        "# Simple Interest Calculation\n",
        "\n",
        "def rupee_to_dollar(rupees):\n",
        "  dollars = rupees / 83\n",
        "  return dollars\n",
        "\n",
        "def celsius_to_fahrenheit(celsius):\n",
        "  fahrenheit = (celsius * 9/5) + 32\n",
        "  return fahrenheit\n",
        "\n",
        "def bmi_calculation(weight, height):\n",
        "  bmi = weight / (height * height)\n",
        "  return bmi\n",
        "\n",
        "def simple_interest(principal, rate, time):\n",
        "  interest = (principal * rate * time) / 100\n",
        "  return interest\n",
        "\n",
        "rupees = int(input())\n",
        "dollars = rupee_to_dollar(rupees)\n",
        "print(f\"{rupees} rupees is equal to {dollars:.2f} dollars\")\n",
        "\n",
        "celsius = float(input())\n",
        "fahrenheit = celsius_to_fahrenheit(celsius)\n",
        "print(f\"{celsius} degree Celsius is equal to {fahrenheit:.2f} degree Fahrenheit\")\n",
        "\n",
        "weight = int(input())\n",
        "height = float(input())\n",
        "bmi = bmi_calculation(weight, height)\n",
        "print(f\"BMI is {bmi:.2f}\")\n",
        "\n",
        "principal = int(input())\n",
        "rate = int(input())\n",
        "time = int(input())\n",
        "interest = simple_interest(principal, rate, time)\n",
        "print(f\"Simple interest is {interest:.2f}\")\n"
      ],
      "metadata": {
        "colab": {
          "base_uri": "https://localhost:8080/"
        },
        "id": "6qYm_KXy36vI",
        "outputId": "ebc89c70-a50f-46ab-f5e7-ae4af9b7fe1d"
      },
      "execution_count": null,
      "outputs": [
        {
          "output_type": "stream",
          "name": "stdout",
          "text": [
            "50\n",
            "50 rupees is equal to 0.60 dollars\n",
            "1\n",
            "1.0 degree Celsius is equal to 33.80 degree Fahrenheit\n",
            "80\n",
            "170\n",
            "BMI is 0.00\n",
            "10000\n",
            "2\n",
            "5\n",
            "Simple interest is 1000.00\n"
          ]
        }
      ]
    },
    {
      "cell_type": "code",
      "source": [
        "#program to get 0s and 1s in the list\n",
        "\n",
        "n=[int(x) for x in input().split()]\n",
        "n1=[x for x in n if x==1]\n",
        "n2=[0]*len(n1)\n",
        "print(n2+n1)"
      ],
      "metadata": {
        "colab": {
          "base_uri": "https://localhost:8080/"
        },
        "id": "8uju_crH5_sY",
        "outputId": "91c1b95b-659a-4e2a-b9ac-8f426e0474ed"
      },
      "execution_count": null,
      "outputs": [
        {
          "output_type": "stream",
          "name": "stdout",
          "text": [
            "1 0 1 0 1 0 1\n",
            "[0, 0, 0, 0, 1, 1, 1, 1]\n"
          ]
        }
      ]
    }
  ]
}